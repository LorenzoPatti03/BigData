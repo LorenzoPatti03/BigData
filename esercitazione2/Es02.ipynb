{
 "cells": [
  {
   "cell_type": "markdown",
   "metadata": {
    "id": "NLtrDYZnW5ra"
   },
   "source": [
    "(Deitel&Deitel 7.22) (Pandas: Series) Perform the following tasks with pandas Series:\n",
    "\n",
    "a) Create a Series from the list [7,11,13,17].\n",
    "\n",
    "b) Create a Series with five elements that are all 100.0.\n",
    "\n",
    "c) Create a Series with 20 elements that are all random numbers in the range 0 to 100. Use method describe to produce the Series’ basic descriptive statistics.\n",
    "\n",
    "d) Create a Series called temperatures of the floating-point values 98.6, 98.9, 100.2 and 97.9. Using the index keyword argument, specify the custom indices 'Julie', 'Charlie', 'Sam' and 'Andrea'.\n",
    "\n",
    "e) Form a dictionary from the names and values in Part (d), then use it to initialize a Series.\n"
   ]
  },
  {
   "cell_type": "code",
   "execution_count": null,
   "metadata": {
    "id": "P-j2FOncW0RL"
   },
   "outputs": [],
   "source": [
    "import pandas as pd\n",
    "import random"
   ]
  },
  {
   "cell_type": "code",
   "execution_count": null,
   "metadata": {
    "colab": {
     "base_uri": "https://localhost:8080/"
    },
    "executionInfo": {
     "elapsed": 412,
     "status": "ok",
     "timestamp": 1701440518990,
     "user": {
      "displayName": "Marco La Cascia",
      "userId": "14815054285486675922"
     },
     "user_tz": -60
    },
    "id": "OdJtSnOrz0XP",
    "outputId": "1dcbddb3-2795-4838-e8ce-5b6d4978bec1"
   },
   "outputs": [],
   "source": []
  },
  {
   "cell_type": "markdown",
   "metadata": {
    "id": "c6gnMzyrXb1E"
   },
   "source": [
    "(Deitel&Deitel 7.23) (Pandas: DataFrames) Perform the following tasks with pandas DataFrames:\n",
    "\n",
    "a) Create a DataFrame named temperatures from a dictionary of three temperature readings each for 'Maxine', 'James' and 'Amanda'.\n",
    "\n",
    "b) Recreate the DataFrame temperatures in Part (a) with custom indices using the index keyword argument and a list containing 'Morning', 'Afternoon' and 'Evening'.\n",
    "\n",
    "c) Select from temperatures the column of temperature readings for 'Maxine'.\n",
    "\n",
    "d) Select from temperatures the row of 'Morning' temperature readings.\n",
    "\n",
    "e) Select from temperatures the rows for 'Morning' and 'Evening' temperature readings.\n",
    "\n",
    "f) Select from temperatures the columns of temperature readings for 'Amanda' and 'Maxine'.\n",
    "\n",
    "g) Select from temperatures the elements for 'Amanda' and 'Maxine' in the 'Morning' and 'Afternoon'.\n",
    "\n",
    "h) Use the describe method to produce temperatures’ descriptive statistics.\n",
    "\n",
    "i) Transpose temperatures.\n",
    "\n",
    "j) Sort temperatures so that its column names are in alphabetical order."
   ]
  },
  {
   "cell_type": "code",
   "execution_count": null,
   "metadata": {
    "colab": {
     "base_uri": "https://localhost:8080/"
    },
    "executionInfo": {
     "elapsed": 301,
     "status": "ok",
     "timestamp": 1701440529423,
     "user": {
      "displayName": "Marco La Cascia",
      "userId": "14815054285486675922"
     },
     "user_tz": -60
    },
    "id": "iqLGZ5deX7UD",
    "outputId": "9704c322-0d1d-42d8-aa7c-0e03048e36af"
   },
   "outputs": [],
   "source": [
    "temperatures = pd.DataFrame({'Maxine':[36.7, 36.9, 36.8], 'James':[36.9, 36.9, 37.2], 'Amanda':[36.8, 37.1, 36.4]})\n",
    "temperatures.index=['Morning', 'Afternoon', 'Evening']\n",
    "print(temperatures)"
   ]
  },
  {
   "cell_type": "code",
   "execution_count": null,
   "metadata": {
    "colab": {
     "base_uri": "https://localhost:8080/",
     "height": 143
    },
    "executionInfo": {
     "elapsed": 6,
     "status": "ok",
     "timestamp": 1701440559318,
     "user": {
      "displayName": "Marco La Cascia",
      "userId": "14815054285486675922"
     },
     "user_tz": -60
    },
    "id": "5S2pUtRN8BD8",
    "outputId": "b537fbaf-5b90-4feb-c22d-0ba605d70ef8"
   },
   "outputs": [],
   "source": []
  },
  {
   "cell_type": "markdown",
   "metadata": {
    "id": "kF-YuUyyW3DZ"
   },
   "source": [
    "(Aggarwal 2.3) Download the Arrythmia data set from the UCI Machine Learning Repository.\n",
    "\n",
    "Normalize all records to a mean of 0 and a standard deviation of 1.\n",
    "\n",
    "Discretize each numerical attribute into:\n",
    "\n",
    "1.   10 equiwidth ranges.\n",
    "2.   10 equidepth ranges.\n",
    "\n",
    "Plot histograms of a few features in both cases (1) and (2). Results are coherent with your expectations?\n"
   ]
  },
  {
   "cell_type": "code",
   "execution_count": null,
   "metadata": {
    "id": "lMRdi1iQYDmh"
   },
   "outputs": [],
   "source": [
    "import pandas as pd\n",
    "import numpy as np\n",
    "\n",
    "labels=list(range(279)) + ['class']\n",
    "\n",
    "df = pd.read_csv('_arrhythmia/arrhythmia.csv', names=labels)"
   ]
  },
  {
   "cell_type": "markdown",
   "metadata": {
    "id": "HD9H9yHp2bpI"
   },
   "source": [
    "La discretizzazione si può fare anche con le funzioni di Pandas cut() e qcut()\n",
    "\n",
    "https://www.kaggle.com/code/mrbisht/discretization-continuous-variables\n",
    "\n",
    "https://pandas.pydata.org/docs/reference/api/pandas.qcut.html\n"
   ]
  },
  {
   "cell_type": "code",
   "execution_count": null,
   "metadata": {},
   "outputs": [],
   "source": []
  }
 ],
 "metadata": {
  "colab": {
   "authorship_tag": "ABX9TyNX85gtXdLWWBgY/xuOid1Z",
   "mount_file_id": "1B25dbZr5p_RZ-ir3f-NqYvepOzY8ncTQ",
   "provenance": [
    {
     "file_id": "1B25dbZr5p_RZ-ir3f-NqYvepOzY8ncTQ",
     "timestamp": 1701440806235
    }
   ]
  },
  "kernelspec": {
   "display_name": "Python 3",
   "name": "python3"
  },
  "language_info": {
   "codemirror_mode": {
    "name": "ipython",
    "version": 3
   },
   "file_extension": ".py",
   "mimetype": "text/x-python",
   "name": "python",
   "nbconvert_exporter": "python",
   "pygments_lexer": "ipython3",
   "version": "3.9.6"
  }
 },
 "nbformat": 4,
 "nbformat_minor": 0
}
