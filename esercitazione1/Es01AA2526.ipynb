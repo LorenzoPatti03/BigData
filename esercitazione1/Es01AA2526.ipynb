{
 "cells": [
  {
   "cell_type": "markdown",
   "metadata": {
    "id": "y8e4jd1lMbdD"
   },
   "source": [
    "# Esercitazione 1 - richiami di Python\n",
    "\n",
    "### Esercizi tratti dal libro \"Introduzione a Python. Per l'informatica e la data science\", 2021, Paul J. Deitel & Harvey M. Deitel, Pearson, ISBN 978-8891915924"
   ]
  },
  {
   "cell_type": "markdown",
   "metadata": {
    "id": "xJ6gp4F5MXSw"
   },
   "source": [
    "4.9 (Degrees to Radians) Implement a radians function that returns the radian equivalent of a degree. Use the following formula:\n",
    "        rad = degrees * pi/180\n",
    "Use this function to print a chart showing the radian equivalent of all degrees ranging from 1° to 180°. Use two digits of precision for the results. Print the outputs in a neat tabular format."
   ]
  },
  {
   "cell_type": "code",
   "execution_count": 11,
   "metadata": {
    "id": "iFPcVWwSMhRB"
   },
   "outputs": [
    {
     "data": {
      "image/png": "[encoded data removed]",
      "text/plain": [
       "<Figure size 640x480 with 1 Axes>"
      ]
     },
     "metadata": {},
     "output_type": "display_data"
    },
    {
     "name": "stdout",
     "output_type": "stream",
     "text": [
      "    gradi  radianti\n",
      "0       0      0.00\n",
      "1       5      0.09\n",
      "2      10      0.17\n",
      "3      15      0.26\n",
      "4      20      0.35\n",
      "5      25      0.44\n",
      "6      30      0.52\n",
      "7      35      0.61\n",
      "8      40      0.70\n",
      "9      45      0.79\n",
      "10     50      0.87\n",
      "11     55      0.96\n",
      "12     60      1.05\n",
      "13     65      1.13\n",
      "14     70      1.22\n",
      "15     75      1.31\n",
      "16     80      1.40\n",
      "17     85      1.48\n",
      "18     90      1.57\n",
      "19     95      1.66\n",
      "20    100      1.75\n",
      "21    105      1.83\n",
      "22    110      1.92\n",
      "23    115      2.01\n",
      "24    120      2.09\n",
      "25    125      2.18\n",
      "26    130      2.27\n",
      "27    135      2.36\n",
      "28    140      2.44\n",
      "29    145      2.53\n",
      "30    150      2.62\n",
      "31    155      2.71\n",
      "32    160      2.79\n",
      "33    165      2.88\n",
      "34    170      2.97\n",
      "35    175      3.05\n",
      "36    180      3.14\n"
     ]
    }
   ],
   "source": [
    "\n",
    "import math\n",
    "import matplotlib.pyplot as plt\n",
    "import pandas as pd\n",
    "\n",
    "def deg_to_rad(deg):\n",
    "    return deg * math.pi / 180\n",
    "\n",
    "x = list(range(0, 181, 5))\n",
    "y = [ round(deg_to_rad(deg), 2) for deg in x ]\n",
    "\n",
    "plt.plot(x, y, label='rad=deg*pi/180')\n",
    "plt.title('conversione')\n",
    "plt.xlabel('gradi')\n",
    "plt.ylabel('radianti')\n",
    "plt.legend()\n",
    "plt.show()\n",
    "\n",
    "table = pd.DataFrame({'gradi': x, 'radianti': y})\n",
    "\n",
    "print(table)\n"
   ]
  },
  {
   "cell_type": "markdown",
   "metadata": {
    "id": "ebFt18GzMh4M"
   },
   "source": [
    "4.10 (Play the Multiplication Game) Write a script that lets the user play a multiplication game. To begin, the game randomly selects two numbers between 1 and 10. It displays the selected numbers and asks the player for the product of both numbers. If the player answers correctly, they are asked if they want to play again. This cycle is continued until the player makes a mistake or stops the game."
   ]
  },
  {
   "cell_type": "code",
   "execution_count": 12,
   "metadata": {
    "id": "0f73TVNdMj6K"
   },
   "outputs": [
    {
     "name": "stdout",
     "output_type": "stream",
     "text": [
      "Product play \n"
     ]
    },
    {
     "ename": "ValueError",
     "evalue": "invalid literal for int() with base 10: ''",
     "output_type": "error",
     "traceback": [
      "\u001b[31m---------------------------------------------------------------------------\u001b[39m",
      "\u001b[31mValueError\u001b[39m                                Traceback (most recent call last)",
      "\u001b[36mCell\u001b[39m\u001b[36m \u001b[39m\u001b[32mIn[12]\u001b[39m\u001b[32m, line 12\u001b[39m\n\u001b[32m      8\u001b[39m n1,n2 = \u001b[38;5;28mint\u001b[39m( random.uniform(\u001b[32m0\u001b[39m,\u001b[32m10\u001b[39m) ) , \u001b[38;5;28mint\u001b[39m( random.uniform(\u001b[32m0\u001b[39m,\u001b[32m10\u001b[39m) ) \n\u001b[32m     10\u001b[39m \u001b[38;5;28mstr\u001b[39m = \u001b[33m'\u001b[39m\u001b[33mDimmi il risultato tra \u001b[39m\u001b[38;5;132;01m{n1}\u001b[39;00m\u001b[33m x \u001b[39m\u001b[38;5;132;01m{n2}\u001b[39;00m\u001b[33m :\u001b[39m\u001b[33m'\u001b[39m\n\u001b[32m---> \u001b[39m\u001b[32m12\u001b[39m result = \u001b[38;5;28;43mint\u001b[39;49m\u001b[43m(\u001b[49m\u001b[43m \u001b[49m\u001b[38;5;28;43minput\u001b[39;49m\u001b[43m(\u001b[49m\u001b[43m \u001b[49m\u001b[38;5;28;43mstr\u001b[39;49m\u001b[43m \u001b[49m\u001b[43m)\u001b[49m\u001b[43m)\u001b[49m\n\u001b[32m     14\u001b[39m \u001b[38;5;28;01mif\u001b[39;00m result == n1*n2:\n\u001b[32m     15\u001b[39m     \u001b[38;5;28;01mbreak\u001b[39;00m\n",
      "\u001b[31mValueError\u001b[39m: invalid literal for int() with base 10: ''"
     ]
    }
   ],
   "source": [
    "import random\n",
    "\n",
    "print( 'Product play ')\n",
    "\n",
    "random.seed(20)\n",
    "\n",
    "while True:\n",
    "    n1,n2 = int( random.uniform(0,10) ) , int( random.uniform(0,10) ) \n",
    "\n",
    "    str = 'Dimmi il risultato tra {n1} x {n2} :'\n",
    "    \n",
    "    result = int( input( str ))\n",
    "    \n",
    "    if result == n1*n2:\n",
    "        break\n",
    "    \n",
    "    print('hai sbagliato, ritenta')\n",
    "    \n",
    "print('risposta corretta')\n",
    "\n"
   ]
  },
  {
   "cell_type": "markdown",
   "metadata": {
    "id": "OEyIUZcaMktV"
   },
   "source": [
    "4.13 (Arbitrary Argument List) Calculate the average of a series of integers that are passed to the function average, which receives an arbitrary argument list. Test your function with several calls, each with a different number of arguments."
   ]
  },
  {
   "cell_type": "code",
   "execution_count": null,
   "metadata": {
    "id": "5YcNMIfYMm8j"
   },
   "outputs": [],
   "source": [
    "import statistics as st\n",
    "import random as rd\n",
    "\n",
    "def average(numbers): return st.mean(numbers)\n",
    "\n",
    "# compatto: inserisci interi separati da spazi (es. \"1 2 3 4\")\n",
    "nums = list(map(int, input(\"Inserisci interi separati da spazi: \").strip().split()))\n",
    "\n",
    "if nums:\n",
    "    print(\"Numeri:\", nums)\n",
    "    print(\"Media:\", average(nums))\n",
    "else:\n",
    "    print(\"Nessun numero inserito.\")\n"
   ]
  },
  {
   "cell_type": "markdown",
   "metadata": {
    "id": "jJdubmZ9M-Ib"
   },
   "source": [
    "5.16 (Sorting User IDs) For each new user, a system generates a user ID consisting of a randomly chosen letter and two random numbers. Write a script that randomly generates a list containing 8000 userIDs using random letters from the range \"a\" through \"f\" and numbers from the range 1 to 4. Subsequently, remove all duplicate entries from the list and sort this list in descending order."
   ]
  },
  {
   "cell_type": "code",
   "execution_count": null,
   "metadata": {
    "id": "atTKBPGANB5i"
   },
   "outputs": [],
   "source": [
    "import random as rd\n",
    "import string\n",
    "\n",
    "\n",
    "letters = [ rd.choice( string.ascii_lowercase) for _ in range(8000) ]\n",
    "numbers = [ rd.randint(1,4) for _ in range(16000)  ]\n",
    "\n",
    "ids = set( f\"{letters[i]}{numbers[i]}{numbers[i+1]}\" for i in range( 8000 )  )\n",
    "\n",
    "ids = sorted(list(ids), reverse=True )\n",
    "\n",
    "print(len(ids))\n",
    "\n",
    "print(ids)\n"
   ]
  },
  {
   "cell_type": "markdown",
   "metadata": {
    "id": "o25GoaDKNEJJ"
   },
   "source": [
    "5.19 (Finding the People with a Specified Last Name) Create a list of tuples containing first and last names. Use filter to locate the tuples containing the last name Jones. Ensure that several tuples in your list have that last name."
   ]
  },
  {
   "cell_type": "code",
   "execution_count": 33,
   "metadata": {
    "id": "CfSCobGANE4d"
   },
   "outputs": [
    {
     "name": "stdout",
     "output_type": "stream",
     "text": [
      "('John', 'Jones')\n",
      "('Emily', 'Jones')\n",
      "('Michael', 'Jones')\n",
      "('Anna', 'Jones')\n",
      "('Paolo', 'Jones')\n",
      "('Giulia3', 'Jones')\n"
     ]
    }
   ],
   "source": [
    "# Lista 'people' con 100 tuple (nome, cognome). Alcuni cognomi sono intenzionalmente 'Jones' (duplicati).\n",
    "people = [\n",
    "    ('Luca','Rossi'), ('Marco','Bianchi'), ('Anna','Verdi'), ('Giulia','Ferrari'), ('Matteo','Russo'),\n",
    "    ('Francesca','Gallo'), ('Paolo','Conti'), ('Sara','Romano'), ('Davide','Greco'), ('Elena','Moretti'),\n",
    "    ('Alessandro','Bruno'), ('Marta','Marino'), ('Federico','Barbieri'), ('Chiara','Longo'), ('Giorgio','Costa'),\n",
    "    ('Laura','Giordano'), ('Simone','Rinaldi'), ('Valentina','Lombardi'), ('Andrea','Sanna'), ('Roberta','Ferraro'),\n",
    "    ('Elisa','Rossi'), ('Claudio','Bianchi'), ('Stefania','Verdi'), ('Gianluca','Ferrari'), ('Monica','Russo'),\n",
    "    ('Roberto','Gallo'), ('Paola','Conti'), ('Riccardo','Romano'), ('Federica','Greco'), ('Alberto','Moretti'),\n",
    "    ('Giovanni','Bruno'), ('Silvia','Marino'), ('Emanuele','Barbieri'), ('Ilaria','Longo'), ('Vincenzo','Costa'),\n",
    "    ('Caterina','Giordano'), ('Michele','Rinaldi'), ('Noemi','Lombardi'), ('Gabriele','Sanna'), ('Arianna','Ferraro'),\n",
    "    ('Sergio','Rossi'), ('Bianca','Bianchi'), ('Lorenzo','Verdi'), ('Martina','Ferrari'), ('Alessia','Russo'),\n",
    "    ('Nicola','Gallo'), ('Angelica','Conti'), ('Edoardo','Romano'), ('Beatrice','Greco'), ('Vittorio','Moretti'),\n",
    "    ('Pietro','Bruno'), ('Lucia','Marino'), ('Gina','Barbieri'), ('Ottavio','Longo'), ('Paolina','Costa'),\n",
    "    ('Raffaele','Giordano'), ('Marta2','Rinaldi'), ('Sofia','Lombardi'), ('Daniele','Sanna'), ('Giulia2','Ferraro'),\n",
    "    ('John','Jones'), ('Emily','Jones'), ('Michael','Jones'), ('Anna','Jones'), ('Paolo','Jones'), ('Giulia3','Jones'),\n",
    "    ('Diego','Rossi'), ('Irene','Bianchi'), ('Tommaso','Verdi'), ('Ginevra','Ferrari'), ('Ettore','Russo'),\n",
    "    ('Luciano','Gallo'), ('Sonia','Conti'), ('Renato','Romano'), ('Serena','Greco'), ('Alma','Moretti'),\n",
    "    ('Rita','Bruno'), ('Marta3','Marino'), ('Pina','Barbieri'), ('Rocco','Longo'), ('Elia','Costa'),\n",
    "    ('Silvio','Giordano'), ('Ada','Rinaldi'), ('Tania','Lombardi'), ('Neri','Sanna'), ('Dina','Ferraro'),\n",
    "    ('Fabio','Rossi'), ('Gilda','Bianchi'), ('Zeno','Verdi'), ('Fiora','Ferrari'), ('Rui','Russo'),\n",
    "    ('Lia','Gallo'), ('Noa','Conti'), ('Enzo','Romano'), ('Leda','Greco'), ('Nico','Moretti'),\n",
    "    ('Ada2','Bruno'), ('Mauro','Marino'), ('Rita2','Barbieri'), ('Oriana','Longo'), ('Luca2','Costa')\n",
    "]\n",
    "\n",
    "\n",
    "\n",
    "for person in filter( lambda t: t[1] == 'Jones', people):\n",
    "    print(person)\n"
   ]
  },
  {
   "cell_type": "markdown",
   "metadata": {
    "id": "D4JOJhLANIJQ"
   },
   "source": [
    "5.24 (Card Shuffling and Dealing) In Exercises 5.24 through 5.26, you'll use lists of tuples in scripts that simulate card shuffling and dealing. Each tuple represents one card in the deck and contains a face (e.g., 'Ace', 'Deuce', 'Three', ..., 'Jack', 'Queen', 'King') and a suit (e.g., 'Hearts', 'Diamonds', 'Clubs', 'Spades'). Create an initialize_deck function to initialize the deck of card tuples with 'Ace' through 'King' of each suit, as in\n",
    "\n",
    "deck = [('Ace', 'Hearts'), ..., ('King', 'Hearts'), ('Ace', 'Diamonds'), ..., ('King', 'Diamonds'), ('Ace', 'Clubs'), ..., ('King', 'Clubs'), ('Ace', 'Spades'), ..., ('King', 'Spades')]\n",
    "\n",
    "Before returning the list, use the random module's shuffle function to randomly order the list elements."
   ]
  },
  {
   "cell_type": "code",
   "execution_count": 2,
   "metadata": {
    "id": "A4LQu0S1NS3_"
   },
   "outputs": [
    {
     "name": "stdout",
     "output_type": "stream",
     "text": [
      "[('Cuori', 'ace'), ('Cuori', 'two'), ('Cuori', 'three'), ('Cuori', 'four'), ('Cuori', 'five'), ('Cuori', 'six'), ('Cuori', 'seven'), ('Cuori', 'eight'), ('Cuori', 'nine'), ('Cuori', 'ten'), ('Cuori', 'jack'), ('Cuori', 'queen'), ('Cuori', 'king'), ('Quadri', 'ace'), ('Quadri', 'two'), ('Quadri', 'three'), ('Quadri', 'four'), ('Quadri', 'five'), ('Quadri', 'six'), ('Quadri', 'seven'), ('Quadri', 'eight'), ('Quadri', 'nine'), ('Quadri', 'ten'), ('Quadri', 'jack'), ('Quadri', 'queen'), ('Quadri', 'king'), ('Fiori', 'ace'), ('Fiori', 'two'), ('Fiori', 'three'), ('Fiori', 'four'), ('Fiori', 'five'), ('Fiori', 'six'), ('Fiori', 'seven'), ('Fiori', 'eight'), ('Fiori', 'nine'), ('Fiori', 'ten'), ('Fiori', 'jack'), ('Fiori', 'queen'), ('Fiori', 'king'), ('Picche', 'ace'), ('Picche', 'two'), ('Picche', 'three'), ('Picche', 'four'), ('Picche', 'five'), ('Picche', 'six'), ('Picche', 'seven'), ('Picche', 'eight'), ('Picche', 'nine'), ('Picche', 'ten'), ('Picche', 'jack'), ('Picche', 'queen'), ('Picche', 'king'), ('Joker', 'black'), ('Joker', 'red')]\n",
      "      seem   face\n",
      "0    Cuori    ace\n",
      "1    Cuori    two\n",
      "2    Cuori  three\n",
      "3    Cuori   four\n",
      "4    Cuori   five\n",
      "5    Cuori    six\n",
      "6    Cuori  seven\n",
      "7    Cuori  eight\n",
      "8    Cuori   nine\n",
      "9    Cuori    ten\n",
      "10   Cuori   jack\n",
      "11   Cuori  queen\n",
      "12   Cuori   king\n",
      "13  Quadri    ace\n",
      "14  Quadri    two\n",
      "15  Quadri  three\n",
      "16  Quadri   four\n",
      "17  Quadri   five\n",
      "18  Quadri    six\n",
      "19  Quadri  seven\n",
      "20  Quadri  eight\n",
      "21  Quadri   nine\n",
      "22  Quadri    ten\n",
      "23  Quadri   jack\n",
      "24  Quadri  queen\n",
      "25  Quadri   king\n",
      "26   Fiori    ace\n",
      "27   Fiori    two\n",
      "28   Fiori  three\n",
      "29   Fiori   four\n",
      "30   Fiori   five\n",
      "31   Fiori    six\n",
      "32   Fiori  seven\n",
      "33   Fiori  eight\n",
      "34   Fiori   nine\n",
      "35   Fiori    ten\n",
      "36   Fiori   jack\n",
      "37   Fiori  queen\n",
      "38   Fiori   king\n",
      "39  Picche    ace\n",
      "40  Picche    two\n",
      "41  Picche  three\n",
      "42  Picche   four\n",
      "43  Picche   five\n",
      "44  Picche    six\n",
      "45  Picche  seven\n",
      "46  Picche  eight\n",
      "47  Picche   nine\n",
      "48  Picche    ten\n",
      "49  Picche   jack\n",
      "50  Picche  queen\n",
      "51  Picche   king\n",
      "52   Joker  black\n",
      "53   Joker    red\n"
     ]
    }
   ],
   "source": [
    "\n",
    "import pandas as  pd\n",
    "seems = ['Cuori', 'Quadri', 'Fiori', 'Picche']\n",
    "faces = ['ace','two','three','four','five','six','seven','eight','nine','ten','jack','queen','king']\n",
    "\n",
    "\n",
    "def init_deck():\n",
    "\n",
    "    deck = [ (seem, face) for seem in seems for face in faces ]\n",
    "    deck += [ ('Joker', 'black'), ('Joker', 'red') ]\n",
    "    return deck\n",
    "\n",
    "deck = init_deck()\n",
    "print(deck)\n",
    "\n",
    "pd_deck = pd.DataFrame( deck, columns=['seem', 'face'] )\n",
    "\n",
    "print( pd_deck )"
   ]
  },
  {
   "cell_type": "markdown",
   "metadata": {
    "id": "wDLe15a5aJUG"
   },
   "source": [
    "6.5 (Counting Votes) Write a script that uses a dictionary to determine the number of votes received by candidates in an election. The votes are concatenated in a string where each vote is separated from the next by a comma.\n",
    "\n",
    "[Hint: split can take in an argument for the specific delimiter you wish to use in a string.]"
   ]
  },
  {
   "cell_type": "code",
   "execution_count": 6,
   "metadata": {
    "id": "iQA998JFaAVB"
   },
   "outputs": [
    {
     "name": "stdout",
     "output_type": "stream",
     "text": [
      "{'Alice Bruno': 5, 'Bob Smith': 3, 'Sandra Dee': 4, 'John Doe': 3}\n"
     ]
    }
   ],
   "source": [
    "\n",
    "vote_grid = {\n",
    "    'Alice Bruno' : 0,\n",
    "    'Bob Smith' : 0,\n",
    "    'Sandra Dee' : 0,\n",
    "    'John Doe' : 0\n",
    "}\n",
    "\n",
    "votes_stream = 'Alice Bruno,Bob Smith,Sandra Dee,John Doe,Alice Bruno,Sandra Dee,Bob Smith,Alice Bruno,' \\\n",
    "               'John Doe,Sandra Dee,Alice Bruno,Bob Smith,John Doe,Sandra Dee,Alice Bruno'\n",
    "               \n",
    "def voting_pprocess(vote_grid, votes_stream):\n",
    "    \n",
    "    votes = votes_stream.split(',')\n",
    "    for key in votes:\n",
    "        vote_grid[key] += 1\n",
    "\n",
    "voting_pprocess(vote_grid, votes_stream)\n",
    "    \n",
    "print(vote_grid)\n",
    "    \n",
    "    \n",
    "    \n",
    "    "
   ]
  },
  {
   "cell_type": "markdown",
   "metadata": {
    "id": "0F9L50_RaH_i"
   },
   "source": [
    "6.6 (Duplicate Email Address Removal) Write a function that receives a list of email addresses and displays only the unique addresses. Treat uppercase and lowercase letters the same. The function should use a set to get the unique email addresses from the list.\n",
    "\n",
    "Test your function with several different lists."
   ]
  },
  {
   "cell_type": "code",
   "execution_count": 7,
   "metadata": {
    "id": "PaYzI9HgaKK8"
   },
   "outputs": [
    {
     "name": "stdout",
     "output_type": "stream",
     "text": [
      "['info@company.com', 'dario@uni.it', 'charlie@domain.org', 'support@company.com', 'prova@test.it', 'alice@example.com', 'enzo@azienda.it', 'maria@work.com', 'bob@example.com']\n"
     ]
    }
   ],
   "source": [
    "emails = [\n",
    "    'alice@example.com', 'bob@example.com', 'charlie@domain.org',\n",
    "    'dario@uni.it', 'maria@work.com', 'alice@example.com',  # duplicate exact\n",
    "    'MARIA@work.com',                                       # duplicate different case\n",
    "    'info@company.com', 'support@company.com', 'info@company.com',  # duplicate exact\n",
    "    'prova@test.it', 'bob@example.com',                     # duplicate exact\n",
    "    'enzo@azienda.it', 'Enzo@azienda.it'                    # duplicate different case\n",
    "]\n",
    "\n",
    "def remove_duplicate_emails(email_list):\n",
    "    \n",
    "    unique_emails = set()\n",
    "    \n",
    "    for email in email_list:\n",
    "        email = email.lower()\n",
    "        unique_emails.add(email)\n",
    "        \n",
    "    return list(unique_emails)\n",
    "        \n",
    "emails_no_duplicates = remove_duplicate_emails(emails) \n",
    "\n",
    "print(emails_no_duplicates)"
   ]
  },
  {
   "cell_type": "markdown",
   "metadata": {
    "id": "RJdSJ8ylaTao"
   },
   "source": [
    "6.9 (Dictionary Manipulations) Using the following dictionary, which maps country names to abbreviations:\n",
    "\n",
    "       tlds = {'Canada': 'ca', 'United States': 'us', 'Mexico': 'mx'}\n",
    "Write a script that shows the user a list of dictionary manipulation options to choose from. Based on the choice, the corresponding manipulation is performed, and the result is shown on the screen. The following choices can be made by the user:\n",
    "\n",
    "a) Show the abbreviation of a country chosen by the user.\n",
    "\n",
    "b) Display all key-value pairs in a two-column format.\n",
    "\n",
    "c) Add a new key-value pair to the dictionary or change the value of an existing\n",
    "key-value pair.\n",
    "\n",
    "d) Create a new dictionary with the values of the first dictionary as keys and the\n",
    "keys of the first dictionary as values.\n",
    "\n",
    "e) Convert all the abbreviations in the dictionary to uppercase letters."
   ]
  },
  {
   "cell_type": "code",
   "execution_count": 15,
   "metadata": {
    "id": "hTG6tJBnasnY"
   },
   "outputs": [
    {
     "name": "stdout",
     "output_type": "stream",
     "text": [
      "{'Canada': 'ca', 'United States': 'us', 'Mexico': 'mx'}\n",
      "menu\n",
      "1. Show the abbreviation of a country chosen by the user. \n",
      "2. Display all key-value pairs in a two-column format.\n",
      "3. Add a new key-value pair to the dictionary or change the value of an existing key-value pair.\n",
      "4. Create a new dictionary with the values of the first dictionary as keys and the keys of the first dictionary as values.\n",
      "5. Convert all the abbreviations in the dictionary to uppercase letters.\n",
      "{'Canada': 'CA', 'United States': 'US', 'Mexico': 'MX'}\n",
      "{'Canada': 'CA', 'United States': 'US', 'Mexico': 'MX'}\n"
     ]
    }
   ],
   "source": [
    "import pandas as pd\n",
    "\n",
    "tlds = {'Canada': 'ca', 'United States': 'us', 'Mexico': 'mx'}\n",
    "\n",
    "choice = 0\n",
    "\n",
    "while choice < 1 or choice > 5:\n",
    "\n",
    "    print(tlds)\n",
    "    print( \"menu\")\n",
    "    print(\"1. Show the abbreviation of a country chosen by the user. \")\n",
    "    print(\"2. Display all key-value pairs in a two-column format.\")\n",
    "    print(\"3. Add a new key-value pair to the dictionary or change the value of an existing key-value pair.\")\n",
    "    print(\"4. Create a new dictionary with the values of the first dictionary as keys and the keys of the first dictionary as values.\")\n",
    "    print(\"5. Convert all the abbreviations in the dictionary to uppercase letters.\")\n",
    "\n",
    "    choice = int( input(\"Choose an option (1-5): \") )\n",
    "\n",
    "    if choice < 1 or choice > 5:\n",
    "        print(\"Invalid choice. Please select a number between 1 and 5.\")\n",
    "        \n",
    "if choice == 1:\n",
    "    \n",
    "    nation = input(\"scrivi per esteso il paese: \").strip().lower().title()\n",
    "    \n",
    "    if nation not in tlds:\n",
    "        print(\"Nazione non trovata.\")\n",
    "    else:\n",
    "        print(tlds[nation])\n",
    "\n",
    "elif choice == 2:\n",
    "    \n",
    "    keys,values = tlds.keys(), tlds.values()\n",
    "    \n",
    "    matrix = zip( keys, values )\n",
    "    \n",
    "    key_value_df = pd.DataFrame({'key': keys, 'value': values})\n",
    "    print(key_value_df)\n",
    "    \n",
    "    key_value_df2 = pd.DataFrame(matrix, columns=['key', 'value'])\n",
    "    print(key_value_df2)\n",
    "    \n",
    "elif choice == 3:\n",
    "    \n",
    "    key_value = input(\"inserisci chiave e valore separati da spazio: \").strip().lower().split()\n",
    "    key_value[0] = key_value[0].title()\n",
    "    \n",
    "    tlds[ key_value[0] ] = key_value[1]\n",
    "    \n",
    "    print(tlds)\n",
    "    \n",
    "elif choice == 4:\n",
    "    \n",
    "    key_value = zip( tlds.keys(), tlds.values() )\n",
    "    inverted_tlds = dict( (v,k) for k,v in key_value )\n",
    "    print(inverted_tlds)\n",
    "    \n",
    "elif choice == 5:\n",
    "    \n",
    "    tlds_upper = { k: v.upper() for k,v in tlds.items() }\n",
    "    \n",
    "    print(tlds_upper)\n",
    "\n",
    "\n"
   ]
  },
  {
   "cell_type": "markdown",
   "metadata": {
    "id": "7qRXJZtoavJ4"
   },
   "source": [
    "9.1 (Class Average: Writing Grades to a Plain Text File) Figure 3.2 presented a class average script in which you could enter any number of grades followed by a sentinel value, then calculate the class average. Another approach would be to read the grades from a file.\n",
    "\n",
    "Write code that enables you to store any number of grades into a grades.txt plain text file."
   ]
  },
  {
   "cell_type": "code",
   "execution_count": null,
   "metadata": {
    "id": "wyp9bAkhayiD"
   },
   "outputs": [],
   "source": [
    "import os\n",
    "\n",
    "\n",
    "path = \"./grades.txt\"\n",
    "\n",
    "if not os.path.exists(path):\n",
    "    open(path, 'w').close()\n",
    "    \n",
    "with open(path, 'a') as f:\n",
    "    name = input(\"Inserisci il nome dello studente: \").strip().lower().title()\n",
    "    grade1 = int(input(\"Inserisci il primo voto dello studente: \"))\n",
    "    grade2 = int(input(\"Inserisci il secondo voto dello studente: \"))\n",
    "    f.write(f\"{name} {grade1} {grade2}\\n\")"
   ]
  },
  {
   "cell_type": "markdown",
   "metadata": {
    "id": "MVtQ8MzQa08H"
   },
   "source": [
    "9.2 (Class Average: Reading Grades from a Plain Text File) Write code that reads the grades from the grades.txt file you created in the previous exercise.\n",
    "\n",
    "Display the individual grades and their total, count and average."
   ]
  },
  {
   "cell_type": "code",
   "execution_count": null,
   "metadata": {
    "id": "SA971yQDa5WP"
   },
   "outputs": [],
   "source": [
    "import pandas as pd\n",
    "\n",
    "people = []\n",
    "\n",
    "with open(path, 'r') as f:\n",
    "    lines = f.readlines()\n",
    "\n",
    "print(lines)\n",
    "for line in lines:\n",
    "    if line.strip() == \"\":\n",
    "        continue\n",
    "    line = line.strip().split()\n",
    "    mean = sum( int(grade) for grade in line if grade.isdigit()  ) / (len(line)-1)\n",
    "    total = sum( int(grade) for grade in line if grade.isdigit()  )\n",
    "    line.append( mean)\n",
    "    line.append( total )\n",
    "    people += [  line ]\n",
    "\n",
    "df = pd.DataFrame( people, columns=['Name', 'Grade1', 'Grade2', 'Mean', 'Total'] )\n",
    "print(df)"
   ]
  },
  {
   "cell_type": "markdown",
   "metadata": {
    "id": "arkihqXya6lJ"
   },
   "source": [
    "9.3 (Class Average: Writing Student Records to a CSV File) An instructor teaches a class in which each student takes three exams. The instructor would like to store this information in a file named grades.csv for later use. Write code that enables an instructor to enter each student's first name and last name as strings and the student's three exam grades as integers.\n",
    "\n",
    "Use the csv module to write each record into the grades.csv file. Each record should be a single line of text in the following CSV format:\n",
    "firstname,lastname,exam1grade,exam2grade,exam3grade"
   ]
  },
  {
   "cell_type": "code",
   "execution_count": 15,
   "metadata": {
    "id": "IjqgpzQ4a-Ie"
   },
   "outputs": [
    {
     "name": "stdout",
     "output_type": "stream",
     "text": [
      "             0         1   2   3   4      5\n",
      "0   Alessandro     Rossi   6  10   6   7.33\n",
      "1     Beatrice   Bianchi   9   4   8   7.00\n",
      "2        Carlo     Verdi   7   7   5   6.33\n",
      "3      Daniela   Ferrari  10  10   9   9.67\n",
      "4       Enrico     Russo   3   5   4   4.00\n",
      "5    Francesca     Gallo   8   9   7   8.00\n",
      "6       Gianni     Conti   2   6   3   3.67\n",
      "7       Ilaria    Romano   5   5   6   5.33\n",
      "8       Jacopo     Greco  10   8   9   9.00\n",
      "9        Katia   Moretti   4   4   5   4.33\n",
      "10        Luca     Bruno   6   7   8   7.00\n",
      "11     Martina    Marino   9   9  10   9.33\n",
      "12      Nicola  Barbieri   1   2   0   1.00\n",
      "13      Olivia     Longo   8   6   7   7.00\n",
      "14       Paolo     Costa   7   3   4   4.67\n",
      "15     Quirino  Giordano   5   9   6   6.67\n",
      "16     Roberto   Rinaldi   2   2   3   2.33\n",
      "17      Serena  Lombardi  10  10  10  10.00\n",
      "18     Tommaso     Sanna   4   6   5   5.00\n",
      "19   Valentina   Ferraro   8   7   9   8.00\n"
     ]
    }
   ],
   "source": [
    "import pandas as pd\n",
    "\n",
    "# gradebook_dict: ogni studente è un dizionario con first_name, last_name, exam1, exam2, exam3\n",
    "students = [\n",
    "    ['Alessandro','Rossi',6,10,6, round((6+10+6)/3,2)],\n",
    "    ['Beatrice','Bianchi',9,4,8, round((9+4+8)/3,2)],\n",
    "    ['Carlo','Verdi',7,7,5, round((7+7+5)/3,2)],\n",
    "    ['Daniela','Ferrari',10,10,9, round((10+10+9)/3,2)],\n",
    "    ['Enrico','Russo',3,5,4, round((3+5+4)/3,2)],\n",
    "    ['Francesca','Gallo',8,9,7, round((8+9+7)/3,2)],\n",
    "    ['Gianni','Conti',2,6,3, round((2+6+3)/3,2)],\n",
    "    ['Ilaria','Romano',5,5,6, round((5+5+6)/3,2)],\n",
    "    ['Jacopo','Greco',10,8,9, round((10+8+9)/3,2)],\n",
    "    ['Katia','Moretti',4,4,5, round((4+4+5)/3,2)],\n",
    "    ['Luca','Bruno',6,7,8, round((6+7+8)/3,2)],\n",
    "    ['Martina','Marino',9,9,10, round((9+9+10)/3,2)],\n",
    "    ['Nicola','Barbieri',1,2,0, round((1+2+0)/3,2)],\n",
    "    ['Olivia','Longo',8,6,7, round((8+6+7)/3,2)],\n",
    "    ['Paolo','Costa',7,3,4, round((7+3+4)/3,2)],\n",
    "    ['Quirino','Giordano',5,9,6, round((5+9+6)/3,2)],\n",
    "    ['Roberto','Rinaldi',2,2,3, round((2+2+3)/3,2)],\n",
    "    ['Serena','Lombardi',10,10,10, round((10+10+10)/3,2)],\n",
    "    ['Tommaso','Sanna',4,6,5, round((4+6+5)/3,2)],\n",
    "    ['Valentina','Ferraro',8,7,9, round((8+7+9)/3,2)]\n",
    "]\n",
    "\n",
    "gradebook_dict = {'students': students}\n",
    "\n",
    "# Costruisco un DataFrame per visualizzare facilmente\n",
    "df_students = pd.DataFrame(gradebook_dict['students'])\n",
    "print(df_students)\n"
   ]
  },
  {
   "cell_type": "markdown",
   "metadata": {
    "id": "tgtUqy8KbD8i"
   },
   "source": [
    "9.4 (Class Average: Reading Student Records from a CSV File) Use the csv module to read the grades.csv file from the previous exercise.\n",
    "\n",
    "Display the data in tabular format."
   ]
  },
  {
   "cell_type": "code",
   "execution_count": 13,
   "metadata": {
    "id": "CV8B1UXYbE9W"
   },
   "outputs": [
    {
     "name": "stdout",
     "output_type": "stream",
     "text": [
      "          Name   Surname  Exam1  Exam2  Exam3   Mean\n",
      "0   Alessandro     Rossi      6     10      6   7.33\n",
      "1     Beatrice   Bianchi      9      4      8   7.00\n",
      "2        Carlo     Verdi      7      7      5   6.33\n",
      "3      Daniela   Ferrari     10     10      9   9.67\n",
      "4       Enrico     Russo      3      5      4   4.00\n",
      "5    Francesca     Gallo      8      9      7   8.00\n",
      "6       Gianni     Conti      2      6      3   3.67\n",
      "7       Ilaria    Romano      5      5      6   5.33\n",
      "8       Jacopo     Greco     10      8      9   9.00\n",
      "9        Katia   Moretti      4      4      5   4.33\n",
      "10        Luca     Bruno      6      7      8   7.00\n",
      "11     Martina    Marino      9      9     10   9.33\n",
      "12      Nicola  Barbieri      1      2      0   1.00\n",
      "13      Olivia     Longo      8      6      7   7.00\n",
      "14       Paolo     Costa      7      3      4   4.67\n",
      "15     Quirino  Giordano      5      9      6   6.67\n",
      "16     Roberto   Rinaldi      2      2      3   2.33\n",
      "17      Serena  Lombardi     10     10     10  10.00\n",
      "18     Tommaso     Sanna      4      6      5   5.00\n",
      "19   Valentina   Ferraro      8      7      9   8.00\n"
     ]
    }
   ],
   "source": [
    "import pandas as pd\n",
    "\n",
    "students_from_csv = pd.read_csv('./students.csv', sep =\";\")\n",
    "\n",
    "print(students_from_csv)"
   ]
  },
  {
   "cell_type": "markdown",
   "metadata": {
    "id": "YBRaKRtObIAd"
   },
   "source": [
    "9.5 (Class Average: Creating a Grade Report from a CSV File) Modify your solution to the preceding exercise to create a grade report that displays each student's average to the right of that student's row and the class average for each exam below that exam's column."
   ]
  },
  {
   "cell_type": "code",
   "execution_count": null,
   "metadata": {
    "id": "jEHnipS6bL87"
   },
   "outputs": [],
   "source": []
  },
  {
   "cell_type": "markdown",
   "metadata": {
    "id": "Ll8Fp_H6bMuW"
   },
   "source": [
    "9.6 (Class Average: Writing a Gradebook Dictionary to a JSON File) Reimplement Exercise 9.3 using the json module to write the student information to the file in JSON format. For this exercise, create a dictionary of student data in the following format:\n",
    "\n",
    "gradebook_dict = {'students': [student1dictionary, student2dictionary, ...]}\n",
    "\n",
    "Each dictionary in the list represents one student and contains the keys 'first_name', 'last_name', 'exam1', 'exam2' and 'exam3', which map to the values representing each student's first name (string), last name (string) and three exam scores (integers).\n",
    "\n",
    "Output the gradebook_dict in JSON format to the file grades.json."
   ]
  },
  {
   "cell_type": "code",
   "execution_count": 16,
   "metadata": {
    "id": "yCuM7eXQbX2L"
   },
   "outputs": [],
   "source": [
    "import json\n",
    "import pandas as pd\n",
    "\n",
    "\n",
    "students = { 'students': [\n",
    "    {'first_name':'Alessandro','last_name':'Rossi','exam1':6,'exam2':10,'exam3':6},\n",
    "    {'first_name':'Beatrice','last_name':'Bianchi','exam1':9,'exam2':4,'exam3':8},\n",
    "    {'first_name':'Carlo','last_name':'Verdi','exam1':7,'exam2':7,'exam3':5},\n",
    "    {'first_name':'Daniela','last_name':'Ferrari','exam1':10,'exam2':10,'exam3':9},\n",
    "    {'first_name':'Enrico','last_name':'Russo','exam1':3,'exam2':5,'exam3':4},\n",
    "    {'first_name':'Francesca','last_name':'Gallo','exam1':8,'exam2':9,'exam3':7},\n",
    "    {'first_name':'Gianni','last_name':'Conti','exam1':2,'exam2':6,'exam3':3},\n",
    "    {'first_name':'Ilaria','last_name':'Romano','exam1':5,'exam2':5,'exam3':6},\n",
    "    {'first_name':'Jacopo','last_name':'Greco','exam1':10,'exam2':8,'exam3':9},\n",
    "    {'first_name':'Katia','last_name':'Moretti','exam1':4,'exam2':4,'exam3':5},\n",
    "    {'first_name':'Luca','last_name':'Bruno','exam1':6,'exam2':7,'exam3':8},\n",
    "    {'first_name':'Martina','last_name':'Marino','exam1':9,'exam2':9,'exam3':10},\n",
    "    {'first_name':'Nicola','last_name':'Barbieri','exam1':1,'exam2':2,'exam3':0},\n",
    "    {'first_name':'Olivia','last_name':'Longo','exam1':8,'exam2':6,'exam3':7},\n",
    "    {'first_name':'Paolo','last_name':'Costa','exam1':7,'exam2':3,'exam3':4},\n",
    "    {'first_name':'Quirino','last_name':'Giordano','exam1':5,'exam2':9,'exam3':6},\n",
    "    {'first_name':'Roberto','last_name':'Rinaldi','exam1':2,'exam2':2,'exam3':3},\n",
    "    {'first_name':'Serena','last_name':'Lombardi','exam1':10,'exam2':10,'exam3':10},\n",
    "    {'first_name':'Tommaso','last_name':'Sanna','exam1':4,'exam2':6,'exam3':5},\n",
    "    {'first_name':'Valentina','last_name':'Ferraro','exam1':8,'exam2':7,'exam3':9}\n",
    "\n",
    "]}\n",
    "\n",
    "with open(\"dati.json\", \"w\") as file:\n",
    "    json.dump(students, file)"
   ]
  },
  {
   "cell_type": "markdown",
   "metadata": {
    "id": "D8mOtU41baj2"
   },
   "source": [
    "9.7 (Class Average: Reading a Gradebook Dictionary from a JSON File) Reimplement Exercise 9.4 using the json module to read the grades.json file created in the previous exercise.\n",
    "\n",
    "Display the data in tabular format, including an additional column showing each student's average to the right of that student's three exam grades and an additional row showing the class average on each exam below that exam's column."
   ]
  },
  {
   "cell_type": "code",
   "execution_count": 43,
   "metadata": {
    "id": "CfuvKTK3biE0"
   },
   "outputs": [
    {
     "ename": "TypeError",
     "evalue": "unsupported operand type(s) for +=: 'int' and 'str'",
     "output_type": "error",
     "traceback": [
      "\u001b[31m---------------------------------------------------------------------------\u001b[39m",
      "\u001b[31mTypeError\u001b[39m                                 Traceback (most recent call last)",
      "\u001b[36mCell\u001b[39m\u001b[36m \u001b[39m\u001b[32mIn[43]\u001b[39m\u001b[32m, line 19\u001b[39m\n\u001b[32m     16\u001b[39m             \u001b[38;5;28;01melse\u001b[39;00m:\n\u001b[32m     17\u001b[39m                 tmp = student[key]\n\u001b[32m---> \u001b[39m\u001b[32m19\u001b[39m             \u001b[43mdiz\u001b[49m\u001b[43m[\u001b[49m\u001b[43mkey\u001b[49m\u001b[43m]\u001b[49m\u001b[43m \u001b[49m\u001b[43m+\u001b[49m\u001b[43m=\u001b[49m\u001b[43m \u001b[49m\u001b[33;43m'\u001b[39;49m\u001b[33;43m \u001b[39;49m\u001b[38;5;132;43;01m{tmp}\u001b[39;49;00m\u001b[33;43m'\u001b[39;49m\n\u001b[32m     21\u001b[39m \u001b[38;5;28;01mfor\u001b[39;00m key \u001b[38;5;129;01min\u001b[39;00m diz.keys():\n\u001b[32m     23\u001b[39m     diz[key] = diz[key].strip().split()\n",
      "\u001b[31mTypeError\u001b[39m: unsupported operand type(s) for +=: 'int' and 'str'"
     ]
    }
   ],
   "source": [
    "\n",
    "import copy\n",
    "\n",
    "\n",
    "df = pd.read_json('./dati.json')\n",
    "diz = {}\n",
    "for i, r in df.iterrows():\n",
    "    student = r['students']\n",
    "    if i == 0:\n",
    "        diz = copy.deepcopy(student)\n",
    "    else:\n",
    "        for key in diz.keys():\n",
    "            \n",
    "            # assicurati che diz[key] sia stringa prima di concatenare\n",
    "            if not isinstance(diz[key], int):\n",
    "                tmp = str(student[key])\n",
    "            else:\n",
    "                tmp = student[key]\n",
    "        \n",
    "            diz[key] += ' {tmp}'\n",
    "\n",
    "for key in diz.keys():\n",
    "    \n",
    "    diz[key] = diz[key].strip().split()\n",
    "            \n",
    "print(diz)\n",
    "    \n",
    "    \n",
    "    "
   ]
  },
  {
   "cell_type": "markdown",
   "metadata": {
    "id": "5DQPxOi0biyZ"
   },
   "source": [
    "9.10 (Project: Analyzing a Book from Project Gutenberg) A great source of plain text files is the collection of over 57,000 free e-books at Project Gutenberg:\n",
    "\n",
    "       https://www.gutenberg.org\n",
    "Download the text-file version of Pride and Prejudice from Project Gutenberg https://www.gutenberg.org/ebooks/1342\n",
    "Create a script that reads Pride and Prejudice from a text file. Produce statistics about the book, including the total word count, the average word length, a word distribution containing frequency counts of all words, and the top 10 longest words.\n",
    "\n",
    "Each Project Gutenberg e-book begins and ends with some additional text, such as licensing information, which is not part of the e-book itself. You may want to remove that text from your copy of the book before analyzing its text."
   ]
  },
  {
   "cell_type": "code",
   "execution_count": null,
   "metadata": {
    "id": "m1Vbyhywbutq"
   },
   "outputs": [],
   "source": []
  },
  {
   "cell_type": "markdown",
   "metadata": {
    "id": "stx_7v6UbvPo"
   },
   "source": [
    "9.11 (Project: Visualizing Word Frequencies with a Word Cloud) A word cloud visual- izes words, displaying more frequently occurring words in larger fonts. In this exercise, you'll create a word cloud that visualizes the top 200 words in Pride and Prejudice. You'll use the open-source wordcloud module's WordCloud class to generate a word cloud with just a few lines of code.\n",
    "\n",
    "       from wordcloud import WordCloud\n",
    "       wordcloud = WordCloud(colormap='prism', background_color='white')\n",
    "Using the techniques from the previous exercise, create a frequencies dictionary containing the frequencies of the top-200 words in Pride and Prejudice. Then execute the following statements to generate a rectangular word cloud and save its image to a file on disk:\n",
    "\n",
    "       wordcloud = wordcloud.fit_words(frequencies)\n",
    "       wordcloud = wordcloud.to_file('PrideAndPrejudice.png')\n"
   ]
  },
  {
   "cell_type": "code",
   "execution_count": null,
   "metadata": {
    "id": "RvUTWFq1b3Ta"
   },
   "outputs": [],
   "source": []
  },
  {
   "cell_type": "code",
   "execution_count": null,
   "metadata": {},
   "outputs": [],
   "source": []
  }
 ],
 "metadata": {
  "colab": {
   "provenance": []
  },
  "kernelspec": {
   "display_name": "big-data",
   "language": "python",
   "name": "python3"
  },
  "language_info": {
   "codemirror_mode": {
    "name": "ipython",
    "version": 3
   },
   "file_extension": ".py",
   "mimetype": "text/x-python",
   "name": "python",
   "nbconvert_exporter": "python",
   "pygments_lexer": "ipython3",
   "version": "3.12.10"
  }
 },
 "nbformat": 4,
 "nbformat_minor": 0
}
