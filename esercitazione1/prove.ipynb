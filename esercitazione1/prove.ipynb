{
 "cells": [
  {
   "cell_type": "markdown",
   "id": "bff4866e",
   "metadata": {},
   "source": [
    "Esempio"
   ]
  },
  {
   "cell_type": "code",
   "execution_count": 7,
   "id": "e8327384",
   "metadata": {},
   "outputs": [
    {
     "name": "stdout",
     "output_type": "stream",
     "text": [
      "<class 'int'>\n",
      "<class 'str'>\n",
      "<class 'int'> <class 'int'>\n"
     ]
    }
   ],
   "source": [
    "x = 5 \n",
    "print(type(x))\n",
    "x = \"ciao\"\n",
    "print(type(x))\n",
    "x = y = 5\n",
    "print(type(x), type(y))\n",
    "\n",
    "\n",
    "\n"
   ]
  },
  {
   "cell_type": "code",
   "execution_count": 11,
   "id": "81078cb1",
   "metadata": {},
   "outputs": [
    {
     "name": "stdout",
     "output_type": "stream",
     "text": [
      "3.5\n",
      "3.5\n",
      "1.8708286933869707\n",
      "2.9166666666666665\n",
      "3.5\n"
     ]
    }
   ],
   "source": [
    "import statistics\n",
    "data = [1, 2, 3, 4, 5, 6]\n",
    "x = statistics.mean(data)\n",
    "print(x)\n",
    "x = statistics.median(data)\n",
    "print(x)\n",
    "x = statistics.stdev(data)\n",
    "print(x)\n",
    "x = statistics.pvariance(data)\n",
    "print(x)\n",
    "x = statistics.variance(data) #varianza campionaria\n",
    "print(x)\n"
   ]
  },
  {
   "cell_type": "markdown",
   "id": "2db32a90",
   "metadata": {},
   "source": [
    "lezione 22/10/2025"
   ]
  },
  {
   "cell_type": "code",
   "execution_count": null,
   "id": "a9d4776c",
   "metadata": {},
   "outputs": [
    {
     "name": "stdout",
     "output_type": "stream",
     "text": [
      "<class 'numpy.ndarray'>\n",
      "(2, 3)\n",
      "2\n",
      "6\n",
      "[[0. 0. 0. 0.]\n",
      " [0. 0. 0. 0.]\n",
      " [0. 0. 0. 0.]]\n",
      "[[[1 1 1 1]\n",
      "  [1 1 1 1]\n",
      "  [1 1 1 1]]\n",
      "\n",
      " [[1 1 1 1]\n",
      "  [1 1 1 1]\n",
      "  [1 1 1 1]]]\n"
     ]
    }
   ],
   "source": [
    "\n",
    "import numpy as np\n",
    "\n",
    "a = np.array([[1, 2, 3], [4, 5, 6]])\n",
    "print(type(a))\n",
    "print(a.shape) #2 righe, 3 colonne\n",
    "print(a.ndim) #numero di dimensioni\n",
    "print(a.size) #numero totale di elementi\n",
    "\n",
    "print(np.zeros( (3, 4) )) #array di zeri 3 righe, 4 colonne si aspetta un parametro quindi gli passo una tupla\n",
    "print(np.ones((2, 3, 4), dtype=np.int16)) #array di uno 2, 3, 4"
   ]
  },
  {
   "cell_type": "code",
   "execution_count": null,
   "id": "18093f26",
   "metadata": {},
   "outputs": [
    {
     "data": {
      "text/plain": [
       "array([0.  , 0.25, 0.5 , 0.75, 1.  ])"
      ]
     },
     "execution_count": 12,
     "metadata": {},
     "output_type": "execute_result"
    }
   ],
   "source": [
    "np.full( (3,5), 13) #valore scelto da te\n",
    "np.arange(5,10)\n",
    "np.linspace(0.0,1.0,num = 5) #interpolazione lineare"
   ]
  },
  {
   "cell_type": "markdown",
   "id": "924e6b0a",
   "metadata": {},
   "source": [
    "reshape degli array"
   ]
  },
  {
   "cell_type": "code",
   "execution_count": 16,
   "id": "1aff8908",
   "metadata": {},
   "outputs": [
    {
     "name": "stdout",
     "output_type": "stream",
     "text": [
      "[ 1  2  3  4  5  6  7  8  9 10 11 12 13 14 15 16 17 18 19 20]\n"
     ]
    },
    {
     "data": {
      "text/plain": [
       "array([[ 1,  2],\n",
       "       [ 3,  4],\n",
       "       [ 5,  6],\n",
       "       [ 7,  8],\n",
       "       [ 9, 10],\n",
       "       [11, 12],\n",
       "       [13, 14],\n",
       "       [15, 16],\n",
       "       [17, 18],\n",
       "       [19, 20]])"
      ]
     },
     "execution_count": 16,
     "metadata": {},
     "output_type": "execute_result"
    }
   ],
   "source": [
    "print( np.arange(1,21) )\n",
    "np.arange(1,21).reshape(4,5).reshape(10,2)"
   ]
  },
  {
   "cell_type": "code",
   "execution_count": 21,
   "id": "e4357571",
   "metadata": {},
   "outputs": [
    {
     "name": "stdout",
     "output_type": "stream",
     "text": [
      "[ 2  8 18]\n",
      "[1 2 3]\n"
     ]
    }
   ],
   "source": [
    "m = np.array([1,2,3])\n",
    "m1 = m*2\n",
    "b = m*m1 #non è il prodotto riga per colonna\n",
    "print(b)\n",
    "print(m)"
   ]
  },
  {
   "cell_type": "markdown",
   "id": "566712e7",
   "metadata": {},
   "source": [
    "confronto di array"
   ]
  },
  {
   "cell_type": "code",
   "execution_count": null,
   "id": "674354e8",
   "metadata": {},
   "outputs": [
    {
     "name": "stdout",
     "output_type": "stream",
     "text": [
      "[False False  True  True]\n"
     ]
    },
    {
     "data": {
      "text/plain": [
       "array([ True, False, False,  True])"
      ]
     },
     "execution_count": 28,
     "metadata": {},
     "output_type": "execute_result"
    }
   ],
   "source": [
    "\n",
    "m = np.array([3,4,7,8])\n",
    "t = np.array([3,5,6,8])\n",
    "s = m >= 7\n",
    "print(s)\n",
    "m == t #restutuisce anche esso un array confrontando valore per valore "
   ]
  },
  {
   "cell_type": "code",
   "execution_count": null,
   "id": "bb6043a3",
   "metadata": {},
   "outputs": [
    {
     "data": {
      "text/plain": [
       "array([5., 6.])"
      ]
     },
     "execution_count": 36,
     "metadata": {},
     "output_type": "execute_result"
    }
   ],
   "source": [
    "b = np.array([[4,5,6],[5,6,7]])\n",
    "m.sum() #built in\n",
    "b.mean(axis=1) #1 riga  2 colonna\n"
   ]
  },
  {
   "cell_type": "markdown",
   "id": "89777d14",
   "metadata": {},
   "source": [
    "le funzioni universali sono delle funzioni che vanno applicate elemento per elemento"
   ]
  },
  {
   "cell_type": "code",
   "execution_count": null,
   "id": "26f25bf9",
   "metadata": {},
   "outputs": [
    {
     "name": "stdout",
     "output_type": "stream",
     "text": [
      "[[4 5 6]\n",
      " [5 6 7]]\n"
     ]
    }
   ],
   "source": [
    "np.sqrt(b)\n"
   ]
  },
  {
   "cell_type": "markdown",
   "id": "398607e0",
   "metadata": {},
   "source": [
    "indexing slicing"
   ]
  },
  {
   "cell_type": "code",
   "execution_count": null,
   "id": "875e5ed5",
   "metadata": {},
   "outputs": [
    {
     "name": "stdout",
     "output_type": "stream",
     "text": [
      "[[1 2 3]\n",
      " [4 5 6]\n",
      " [7 8 9]]\n",
      "140412818004208\n",
      "140412818005168\n",
      "[1 4 7] [1 4 7]\n"
     ]
    }
   ],
   "source": [
    "b[0,1]\n",
    "b[0:1] #ottengo un nuovo oggetto che punta alla matrice iniziale\n",
    "\n",
    "c = np.arange(1, 10).reshape(3, 3)\n",
    "d = c[:,0]\n",
    "print(c)\n",
    "\n",
    "print(id(d))\n",
    "print(id(c)) #mi dice l'id dell'oggetto cioè se puntano alla stessa cosa\n",
    "copia = d.view() #punta agli stessi dati\n",
    "copia1 = d.copy() #crea una copia\n",
    "\n",
    "print(copia,copia1)"
   ]
  },
  {
   "cell_type": "code",
   "execution_count": null,
   "id": "dc7c1ef3",
   "metadata": {},
   "outputs": [],
   "source": [
    "#reshape restituisce una lista è modo di viusalizzare diverso i dati ma è sempre una lista(vista)\n",
    "#resize modifica l'array originale\n",
    "#flatten trasforma una matrice in vettore, copia i dati\n",
    "#ravel trasforma una matrice in vettore, è una view"
   ]
  },
  {
   "cell_type": "markdown",
   "id": "87955a9c",
   "metadata": {},
   "source": [
    "Trasposizione: inverte righe e colonne"
   ]
  },
  {
   "cell_type": "code",
   "execution_count": 53,
   "id": "1515eefe",
   "metadata": {},
   "outputs": [
    {
     "data": {
      "text/plain": [
       "array([[1, 4, 7],\n",
       "       [2, 5, 8],\n",
       "       [3, 6, 9]])"
      ]
     },
     "execution_count": 53,
     "metadata": {},
     "output_type": "execute_result"
    }
   ],
   "source": [
    "c.T #matrice trasposta (view)\n"
   ]
  },
  {
   "cell_type": "markdown",
   "id": "9f49ce2e",
   "metadata": {},
   "source": [
    "pandas"
   ]
  },
  {
   "cell_type": "code",
   "execution_count": 60,
   "id": "fdc4dc60",
   "metadata": {},
   "outputs": [
    {
     "name": "stdout",
     "output_type": "stream",
     "text": [
      "a    1\n",
      "b    2\n",
      "c    3\n",
      "d    4\n",
      "e    5\n",
      "dtype: int64\n",
      "a    1\n",
      "b    2\n",
      "c    3\n",
      "dtype: int64\n",
      "int64 5 Index(['a', 'b', 'c', 'd', 'e'], dtype='object') [1 2 3 4 5]\n"
     ]
    }
   ],
   "source": [
    "import pandas as pd\n",
    "serie = pd.Series([1, 2, 3, 4, 5], index=['a', 'b', 'c', 'd', 'e'])\n",
    "print(serie)\n",
    "\n",
    "serie1 = pd.Series({'a': 1, 'b': 2, 'c': 3})\n",
    "print(serie1)\n",
    "print(\n",
    "serie.dtype,\n",
    "serie.size,\n",
    "serie.index,\n",
    "serie.values    \n",
    ")"
   ]
  },
  {
   "cell_type": "code",
   "execution_count": 61,
   "id": "3408a899",
   "metadata": {},
   "outputs": [
    {
     "data": {
      "text/plain": [
       "count    5.000000\n",
       "mean     3.000000\n",
       "std      1.581139\n",
       "min      1.000000\n",
       "25%      2.000000\n",
       "50%      3.000000\n",
       "75%      4.000000\n",
       "max      5.000000\n",
       "dtype: float64"
      ]
     },
     "execution_count": 61,
     "metadata": {},
     "output_type": "execute_result"
    }
   ],
   "source": [
    "serie.describe()"
   ]
  },
  {
   "cell_type": "markdown",
   "id": "8bb064e3",
   "metadata": {},
   "source": [
    "dataframe: combinazione di tante serie"
   ]
  },
  {
   "cell_type": "code",
   "execution_count": 90,
   "id": "d060ab11",
   "metadata": {},
   "outputs": [
    {
     "data": {
      "text/html": [
       "<div>\n",
       "<style scoped>\n",
       "    .dataframe tbody tr th:only-of-type {\n",
       "        vertical-align: middle;\n",
       "    }\n",
       "\n",
       "    .dataframe tbody tr th {\n",
       "        vertical-align: top;\n",
       "    }\n",
       "\n",
       "    .dataframe thead th {\n",
       "        text-align: right;\n",
       "    }\n",
       "</style>\n",
       "<table border=\"1\" class=\"dataframe\">\n",
       "  <thead>\n",
       "    <tr style=\"text-align: right;\">\n",
       "      <th></th>\n",
       "      <th>Nome</th>\n",
       "      <th>Eta</th>\n",
       "      <th>Citta</th>\n",
       "    </tr>\n",
       "  </thead>\n",
       "  <tbody>\n",
       "    <tr>\n",
       "      <th>a</th>\n",
       "      <td>Lorenzo</td>\n",
       "      <td>25</td>\n",
       "      <td>Roma</td>\n",
       "    </tr>\n",
       "    <tr>\n",
       "      <th>b</th>\n",
       "      <td>Mario</td>\n",
       "      <td>30</td>\n",
       "      <td>Milano</td>\n",
       "    </tr>\n",
       "  </tbody>\n",
       "</table>\n",
       "</div>"
      ],
      "text/plain": [
       "      Nome  Eta   Citta\n",
       "a  Lorenzo   25    Roma\n",
       "b    Mario   30  Milano"
      ]
     },
     "execution_count": 90,
     "metadata": {},
     "output_type": "execute_result"
    }
   ],
   "source": [
    "df = pd.DataFrame({\n",
    "    'Nome': ['Lorenzo', 'Mario', 'Luigi'],\n",
    "    'Eta': [25, 30, 22],\n",
    "    'Citta': ['Roma' ,'Milano', 'Napoli']\n",
    "})\n",
    "\n",
    "df.index = ['a', 'b', 'c']\n",
    "s = df.loc['a']\n",
    "f = df.iloc[1]\n",
    "s.Nome\n",
    "f.Nome\n",
    "\n",
    "df.loc['Nome':'Eta', 'a':'b']\n",
    "\n",
    "df[df.Eta >22]"
   ]
  },
  {
   "cell_type": "code",
   "execution_count": null,
   "id": "fe8815a3",
   "metadata": {},
   "outputs": [],
   "source": []
  }
 ],
 "metadata": {
  "kernelspec": {
   "display_name": "big-data",
   "language": "python",
   "name": "python3"
  },
  "language_info": {
   "codemirror_mode": {
    "name": "ipython",
    "version": 3
   },
   "file_extension": ".py",
   "mimetype": "text/x-python",
   "name": "python",
   "nbconvert_exporter": "python",
   "pygments_lexer": "ipython3",
   "version": "3.12.10"
  }
 },
 "nbformat": 4,
 "nbformat_minor": 5
}
